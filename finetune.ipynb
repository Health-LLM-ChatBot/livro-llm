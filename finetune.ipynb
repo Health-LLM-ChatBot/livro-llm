{
 "cells": [
  {
   "cell_type": "markdown",
   "metadata": {},
   "source": [
    "# Finetuning LLAMA3:8B Com contéudos de medicina\n",
    "\n",
    "Vamos utlizar o torchtune o torchtune é uma Pytorch-native lib para facilitar o finetuning de modelos de LLM."
   ]
  },
  {
   "cell_type": "code",
   "execution_count": null,
   "metadata": {},
   "outputs": [],
   "source": [
    "# !pip install wikipedia-api\n",
    "# !pip install torchtune\n",
    "# !pip install setuptools"
   ]
  },
  {
   "cell_type": "code",
   "execution_count": null,
   "metadata": {},
   "outputs": [],
   "source": [
    "import wikipediaapi\n",
    "\n",
    "def extract_wikipedia_data(pages, file_path):\n",
    "    wiki_wiki = wikipediaapi.Wikipedia(\"Wikipedia/1.0\", 'pt')\n",
    "\n",
    "    with open(file_path, 'w', encoding='utf-8') as f:\n",
    "        for page in pages:\n",
    "            p_wiki = wiki_wiki.page(page)\n",
    "            if p_wiki.exists():\n",
    "                f.write(f\"Title: {p_wiki.title}\\n\\n\")\n",
    "                f.write(f\"{p_wiki.text}\\n\\n\")\n",
    "                f.write(\"=\"*80 + \"\\n\\n\")\n",
    "            else:\n",
    "                print(f\"Page '{page}' does not exist on Wikipedia.\")\n",
    "\n",
    "# Lista de páginas a serem extraídas\n",
    "pages = [\"Medicina\", \"HIV/AIDS\"]\n",
    "# Caminho para salvar o arquivo de texto\n",
    "file_path = \"wikipedia_medicina_aids.txt\"\n",
    "\n",
    "extract_wikipedia_data(pages, file_path)"
   ]
  },
  {
   "cell_type": "markdown",
   "metadata": {},
   "source": [
    "### 1. Vamos criar nosso proprio arquivo de configuração para o Torchtune."
   ]
  },
  {
   "cell_type": "code",
   "execution_count": 1,
   "metadata": {},
   "outputs": [],
   "source": [
    "!tune cp llama3/8B_full_single_device ./custom_config_wikipedia.yaml"
   ]
  },
  {
   "cell_type": "markdown",
   "metadata": {},
   "source": [
    "\n",
    "### 2. Tudo que precisamos fazer agora é apontar para o nosso dataset.\n",
    "\n",
    "```yaml\n",
    "dataset:\n",
    "  _component_: torchtune.datasets.text_completion_dataset\n",
    "  source: text \n",
    "  column: text\n",
    "  data_files: wikipedia_medicina_aids.txt\n",
    "  split: train\n",
    "seed: null\n",
    "shuffle: True\n",
    "batch_size: 2```"
   ]
  },
  {
   "cell_type": "markdown",
   "metadata": {},
   "source": [
    "### 3. Agora podemos iniciar o fine tuning com o `torch run``"
   ]
  },
  {
   "cell_type": "code",
   "execution_count": null,
   "metadata": {},
   "outputs": [],
   "source": [
    "!tune run lora_finetune_single_device --config custom_config_wikipedia.yaml"
   ]
  }
 ],
 "metadata": {
  "kernelspec": {
   "display_name": "livro-llm-2IyhzA_8",
   "language": "python",
   "name": "python3"
  },
  "language_info": {
   "codemirror_mode": {
    "name": "ipython",
    "version": 3
   },
   "file_extension": ".py",
   "mimetype": "text/x-python",
   "name": "python",
   "nbconvert_exporter": "python",
   "pygments_lexer": "ipython3",
   "version": "3.12.4"
  }
 },
 "nbformat": 4,
 "nbformat_minor": 2
}
